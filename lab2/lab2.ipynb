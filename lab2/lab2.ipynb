{
 "cells": [
  {
   "cell_type": "markdown",
   "source": [
    "Лабораторная работа №2. Введение в проектирование нейронных сетей с помощью Python"
   ],
   "metadata": {
    "collapsed": false,
    "pycharm": {
     "name": "#%% md\n"
    }
   }
  },
  {
   "cell_type": "markdown",
   "source": [],
   "metadata": {
    "collapsed": false,
    "pycharm": {
     "name": "#%% md\n"
    }
   }
  },
  {
   "cell_type": "code",
   "execution_count": 1,
   "outputs": [
    {
     "name": "stdout",
     "output_type": "stream",
     "text": [
      "Is cuda available? True\n",
      "Is cuDNN version: 8302\n",
      "cuDNN enabled?  True\n",
      "cuDNN benchmark? True\n",
      "is Use Deterministic Algorithms? False\n",
      "_CudaDeviceProperties(name='NVIDIA GeForce RTX 3080 Laptop GPU', major=8, minor=6, total_memory=8191MB, multi_processor_count=48)\n"
     ]
    }
   ],
   "source": [
    "\"\"\"\n",
    "https://github.com/vedaant-varshney/ImageClassifierCNN/blob/master/Image%20Classifier.ipynb\n",
    "\n",
    "https://vitalflux.com/different-types-of-cnn-architectures-explained-examples\n",
    "\n",
    "https://sahiltinky94.medium.com/know-about-googlenet-and-implementation-using-pytorch-92f827d675db\n",
    "\"\"\"\n",
    "\n",
    "from IPython.display import clear_output\n",
    "import pandas as pd\n",
    "import numpy as np\n",
    "import matplotlib.pyplot as plt\n",
    "import os\n",
    "import random\n",
    "import scipy\n",
    "import torch\n",
    "import torch.nn as nn\n",
    "import torch.nn.functional as F\n",
    "import gc\n",
    "import torch.backends.cudnn\n",
    "\n",
    "num_workers = 0\n",
    "batch_size = 100\n",
    "valid_size = 0.2\n",
    "learning_rate = 0.01\n",
    "learning_momentum = 0.9\n",
    "MODEL_NAME = \"LeNet\"\n",
    "\n",
    "torch.cuda.synchronize()\n",
    "torch.cuda.empty_cache()\n",
    "gc.collect()\n",
    "\n",
    "torch.use_deterministic_algorithms(False)\n",
    "torch.backends.cudnn.benchmark = True\n",
    "\n",
    "print(\"Is cuda available?\", torch.cuda.is_available())\n",
    "print(\"Is cuDNN version:\", torch.backends.cudnn.version())\n",
    "print(\"cuDNN enabled? \", torch.backends.cudnn.enabled)\n",
    "print(\"cuDNN benchmark?\", torch.backends.cudnn.benchmark)\n",
    "print(\"is Use Deterministic Algorithms?\", torch.backends.cudnn.deterministic)\n",
    "\n",
    "cuda = torch.device('cuda')\n",
    "print(torch.cuda.get_device_properties(cuda))"
   ],
   "metadata": {
    "collapsed": false,
    "pycharm": {
     "name": "#%%\n"
    }
   }
  },
  {
   "cell_type": "code",
   "execution_count": 2,
   "outputs": [],
   "source": [
    "# mnist_train = np.genfromtxt(f\"dataset/mnist_train.csv\", delimiter=',', dtype=np.uint8)\n",
    "# mnist_test = np.genfromtxt(f\"dataset/mnist_test.csv\", delimiter=',', dtype=np.uint8)\n",
    "\n",
    "mnist_train = pd.read_csv(f\"dataset/mnist_train.csv\", header=None, engine=\"c\", delimiter=',', dtype=np.uint8).to_numpy()\n",
    "mnist_test = pd.read_csv(f\"dataset/mnist_test.csv\", header=None, engine=\"c\", delimiter=',', dtype=np.uint8).to_numpy()"
   ],
   "metadata": {
    "collapsed": false,
    "pycharm": {
     "name": "#%%\n"
    }
   }
  },
  {
   "cell_type": "code",
   "execution_count": 3,
   "outputs": [
    {
     "name": "stdout",
     "output_type": "stream",
     "text": [
      "(60000, 785)\n",
      "(10000, 785)\n",
      "torch.Size([60000, 1, 28, 28])\n",
      "torch.Size([60000])\n",
      "torch.Size([10000, 1, 28, 28])\n",
      "torch.Size([10000])\n",
      "Классы:  [0 1 2 3 4 5 6 7 8 9]\n"
     ]
    }
   ],
   "source": [
    "print(mnist_train.shape)\n",
    "print(mnist_test.shape)\n",
    "\n",
    "images_train = np.float32(np.reshape(mnist_train[:, 1:], (mnist_train.shape[0], 28, 28, 1))) / 255\n",
    "numbers_train = mnist_train[:, 0]\n",
    "images_test = np.float32(np.reshape(mnist_test[:, 1:], (mnist_test.shape[0], 28, 28, 1))) / 255\n",
    "numbers_test = mnist_test[:, 0]\n",
    "\n",
    "images_train = np.transpose(images_train, [0, 3, 1, 2])\n",
    "images_test = np.transpose(images_test, [0, 3, 1, 2])\n",
    "\n",
    "images_train = torch.tensor(images_train, device=cuda).to(non_blocking=True)\n",
    "numbers_train = torch.tensor(numbers_train, device=cuda).to(non_blocking=True)\n",
    "images_test = torch.tensor(images_test, device=cuda).to(non_blocking=True)\n",
    "numbers_test = torch.tensor(numbers_test, device=cuda).to(non_blocking=True)\n",
    "\n",
    "print(images_train.shape)\n",
    "print(numbers_train.shape)\n",
    "print(images_test.shape)\n",
    "print(numbers_test.shape)\n",
    "\n",
    "print(\"Классы: \", np.unique(numbers_train.cpu()))"
   ],
   "metadata": {
    "collapsed": false,
    "pycharm": {
     "name": "#%%\n"
    }
   }
  },
  {
   "cell_type": "code",
   "execution_count": 4,
   "outputs": [
    {
     "name": "stdout",
     "output_type": "stream",
     "text": [
      "\n"
     ]
    },
    {
     "data": {
      "text/plain": "<Figure size 640x480 with 1 Axes>",
      "image/png": "[encoded data removed]"
     },
     "metadata": {},
     "output_type": "display_data"
    }
   ],
   "source": [
    "number_train = random.randint(0, images_test.cpu().shape[0])\n",
    "plt.imshow(images_test.cpu()[number_train, 0, :, :], cmap=plt.cm.binary, vmin=0, vmax=1)\n",
    "plt.title(f\"Число из обучающего датасета: {numbers_test.cpu().numpy()[number_train]}\")\n",
    "print()"
   ],
   "metadata": {
    "collapsed": false,
    "pycharm": {
     "name": "#%%\n"
    }
   }
  },
  {
   "cell_type": "code",
   "execution_count": 5,
   "outputs": [
    {
     "name": "stdout",
     "output_type": "stream",
     "text": [
      "\n"
     ]
    },
    {
     "data": {
      "text/plain": "<Figure size 640x480 with 1 Axes>",
      "image/png": "[encoded data removed]"
     },
     "metadata": {},
     "output_type": "display_data"
    }
   ],
   "source": [
    "number_test = random.randint(0, images_test.cpu().shape[0])\n",
    "plt.imshow(images_test.cpu()[number_test, 0, :, :], cmap=plt.cm.binary, vmin=0, vmax=1)\n",
    "plt.title(f\"Число из тестового датасета: {numbers_test.cpu().numpy()[number_test]}\")\n",
    "print()"
   ],
   "metadata": {
    "collapsed": false,
    "pycharm": {
     "name": "#%%\n"
    }
   }
  },
  {
   "cell_type": "code",
   "execution_count": 6,
   "outputs": [
    {
     "name": "stdout",
     "output_type": "stream",
     "text": [
      "torch.Size([60000, 1, 28, 28])\n",
      "torch.Size([60000])\n"
     ]
    }
   ],
   "source": [
    "print(images_train.shape)\n",
    "print(numbers_train.shape)"
   ],
   "metadata": {
    "collapsed": false,
    "pycharm": {
     "name": "#%%\n"
    }
   }
  },
  {
   "cell_type": "code",
   "execution_count": 7,
   "outputs": [],
   "source": [
    "from torchvision import datasets\n",
    "import torchvision.transforms as transforms\n",
    "from torch.utils.data.sampler import SubsetRandomSampler\n",
    "from torch.utils.data import TensorDataset, DataLoader\n",
    "\n",
    "from importlib import reload\n",
    "import LeNet\n",
    "\n",
    "reload(LeNet)\n",
    "\n",
    "# Picking Fashion-MNIST dataset\n",
    "\n",
    "train_transforms = transforms.Compose([\n",
    "    transforms.RandomRotation(25),\n",
    "    transforms.RandomInvert(p=0.5),\n",
    "])\n",
    "# transforms.RandomInvert(p=0.5),\n",
    "normalize_transforms = transforms.Compose([\n",
    "    transforms.Resize(size=LeNet.IMAGE_SIZE, interpolation=transforms.InterpolationMode.BICUBIC),\n",
    "    transforms.Normalize((0.5,), (0.5,)),\n",
    "])\n",
    "# transforms.Normalize((0.5,), (0.5,)),\n",
    "\n",
    "train_data = TensorDataset(images_train, numbers_train)\n",
    "test_data = TensorDataset(images_test, numbers_test)\n",
    "\n",
    "# Finding indices for validation set\n",
    "num_train = len(train_data)\n",
    "indices = list(range(num_train))\n",
    "#Randomize indices\n",
    "np.random.shuffle(indices)\n",
    "\n",
    "split = int(np.floor(num_train * valid_size))\n",
    "train_index, test_index = indices[split:], indices[:split]\n",
    "\n",
    "# Making samplers for training and validation batches\n",
    "train_sampler = SubsetRandomSampler(train_index)\n",
    "valid_sampler = SubsetRandomSampler(test_index)\n",
    "\n",
    "# Creating data loaders\n",
    "train_loader = torch.utils.data.DataLoader(train_data, batch_size=batch_size, sampler=train_sampler,\n",
    "                                           num_workers=num_workers)\n",
    "valid_loader = torch.utils.data.DataLoader(train_data, batch_size=batch_size, sampler=valid_sampler,\n",
    "                                           num_workers=num_workers)\n",
    "test_loader = torch.utils.data.DataLoader(test_data, batch_size=batch_size, num_workers=num_workers)\n",
    "\n",
    "# Image classes\n",
    "classes = ['0', '1', '2', '3', '4', '5', '6', '7', '8', '9']"
   ],
   "metadata": {
    "collapsed": false,
    "pycharm": {
     "name": "#%%\n"
    }
   }
  },
  {
   "cell_type": "code",
   "execution_count": 8,
   "outputs": [
    {
     "name": "stdout",
     "output_type": "stream",
     "text": [
      "torch.Size([100, 1, 28, 28]) torch.Size([100]) 7\n"
     ]
    },
    {
     "data": {
      "text/plain": "<matplotlib.image.AxesImage at 0x1ea70355cf0>"
     },
     "execution_count": 8,
     "metadata": {},
     "output_type": "execute_result"
    },
    {
     "data": {
      "text/plain": "<Figure size 640x480 with 1 Axes>",
      "image/png": "[encoded data removed]"
     },
     "metadata": {},
     "output_type": "display_data"
    }
   ],
   "source": [
    "for batch_index, (data, target) in enumerate(train_loader):\n",
    "    break\n",
    "print(data.shape, target.shape, classes[target[0]])\n",
    "image = normalize_transforms(train_transforms(data.cpu()))\n",
    "\n",
    "plt.imshow(image[random.randint(0, image.shape[0]), 0, :, :], cmap=plt.cm.binary, vmin=-1, vmax=1)"
   ],
   "metadata": {
    "collapsed": false,
    "pycharm": {
     "name": "#%%\n"
    }
   }
  },
  {
   "cell_type": "code",
   "execution_count": 9,
   "outputs": [
    {
     "name": "stdout",
     "output_type": "stream",
     "text": [
      "LeNet(\n",
      "  (conv): Sequential(\n",
      "    (0): Conv2d(1, 6, kernel_size=(5, 5), stride=(1, 1), padding=(2, 2))\n",
      "    (1): Sigmoid()\n",
      "    (2): AvgPool2d(kernel_size=(2, 2), stride=2, padding=0)\n",
      "    (3): Conv2d(6, 16, kernel_size=(5, 5), stride=(1, 1))\n",
      "    (4): Sigmoid()\n",
      "    (5): AvgPool2d(kernel_size=(2, 2), stride=2, padding=0)\n",
      "  )\n",
      "  (fc): Sequential(\n",
      "    (0): Linear(in_features=400, out_features=120, bias=True)\n",
      "    (1): Sigmoid()\n",
      "    (2): Linear(in_features=120, out_features=84, bias=True)\n",
      "    (3): Sigmoid()\n",
      "    (4): Linear(in_features=84, out_features=10, bias=True)\n",
      "  )\n",
      ")\n"
     ]
    }
   ],
   "source": [
    "from importlib import reload\n",
    "import torchvision.models\n",
    "import LeNet\n",
    "import torch.optim as optim\n",
    "\n",
    "reload(LeNet)\n",
    "\n",
    "model = LeNet.LeNet()\n",
    "model.cuda()\n",
    "print(model)\n",
    "\n",
    "# loss function (cross entropy loss)\n",
    "criterion = nn.CrossEntropyLoss()\n",
    "\n",
    "train_losses = []\n",
    "valid_losses = []\n",
    "\n",
    "# tracks validation loss change after each epoch\n",
    "minimum_validation_loss = np.inf\n",
    "\n",
    "# optimizer\n",
    "optimizer = optim.SGD(model.parameters(), lr=learning_rate, momentum=learning_momentum)"
   ],
   "metadata": {
    "collapsed": false,
    "pycharm": {
     "name": "#%%\n"
    }
   }
  },
  {
   "cell_type": "code",
   "execution_count": null,
   "outputs": [
    {
     "name": "stdout",
     "output_type": "stream",
     "text": [
      "Текущая Эпоха: 542\n",
      "Training Loss: 0.058441\n",
      "Validation Loss: 0.075037\n"
     ]
    },
    {
     "data": {
      "text/plain": "<Figure size 640x480 with 1 Axes>",
      "image/png": "[encoded data removed]"
     },
     "metadata": {},
     "output_type": "display_data"
    },
    {
     "name": "stdout",
     "output_type": "stream",
     "text": [
      "Текущая Эпоха: 543\n",
      "Training Loss: 0.062584\n",
      "Validation Loss: 0.071854\n"
     ]
    },
    {
     "data": {
      "text/plain": "<Figure size 640x480 with 1 Axes>",
      "image/png": "[encoded data removed]"
     },
     "metadata": {},
     "output_type": "display_data"
    }
   ],
   "source": [
    "# epochs to train for\n",
    "epochs = 1000\n",
    "\n",
    "for epoch in range(1, epochs + 1):\n",
    "    clear_output(wait=True)\n",
    "\n",
    "    train_loss = 0\n",
    "    valid_loss = 0\n",
    "\n",
    "    # training steps\n",
    "    model.train()\n",
    "\n",
    "    index = 0\n",
    "    for batch_index, (data, target) in enumerate(train_loader):\n",
    "        index += 1\n",
    "        # clears gradients\n",
    "        optimizer.zero_grad()\n",
    "        # forward pass\n",
    "        output = model(normalize_transforms(train_transforms(data)))\n",
    "        # loss in batch\n",
    "        loss = criterion(output, target)\n",
    "        # backward pass for loss gradient\n",
    "        loss.backward()\n",
    "        # update paremeters\n",
    "        optimizer.step()\n",
    "        # update training loss\n",
    "        train_loss += loss.item() * data.size(0)\n",
    "\n",
    "    # validation steps\n",
    "    model.eval()\n",
    "    for batch_index, (data, target) in enumerate(valid_loader):\n",
    "        # forward pass\n",
    "        output = model(normalize_transforms(train_transforms(data)))\n",
    "        # loss in batch\n",
    "        loss = criterion(output, target)\n",
    "        # update validation loss\n",
    "        valid_loss += loss.item() * data.size(0)\n",
    "\n",
    "    # average loss calculations\n",
    "    train_loss = train_loss / len(train_loader.sampler)\n",
    "    valid_loss = valid_loss / len(valid_loader.sampler)\n",
    "    train_losses.append(train_loss)\n",
    "    valid_losses.append(valid_loss)\n",
    "\n",
    "    # Display loss statistics\n",
    "    print(\n",
    "        f'Текущая Эпоха: {len(train_losses)}\\nTraining Loss: {round(train_loss, 6)}\\nValidation Loss: {round(valid_loss, 6)}')\n",
    "\n",
    "    # Saving model every time validation loss decreases\n",
    "    if valid_loss <= minimum_validation_loss:\n",
    "        print(f'Validation loss уменьшилась с {round(minimum_validation_loss, 6)} до {round(valid_loss, 6)}')\n",
    "        torch.save(model.state_dict(), f'{MODEL_NAME}.pt')\n",
    "        minimum_validation_loss = valid_loss\n",
    "        print('Сохранение новой модели')\n",
    "\n",
    "    plt.plot(train_losses, 'g')\n",
    "    plt.plot(valid_losses, 'r')\n",
    "    plt.ylim([0, max(np.max(np.array(train_losses)), np.max(np.array(train_losses)), 0.0) * 1.1])\n",
    "    plt.xlabel(\"Эпоха\")\n",
    "    plt.ylabel(\"Точность\")\n",
    "    plt.legend([\"Training loss\", \"Validation loss\"])\n",
    "    plt.show()"
   ],
   "metadata": {
    "collapsed": false,
    "pycharm": {
     "name": "#%%\n",
     "is_executing": true
    }
   }
  },
  {
   "cell_type": "code",
   "execution_count": null,
   "outputs": [],
   "source": [
    "from importlib import reload\n",
    "import LeNet\n",
    "\n",
    "reload(LeNet)\n",
    "\n",
    "model_new = LeNet.LeNet()\n",
    "model_new.cuda()\n",
    "model_new.load_state_dict(torch.load(f'{MODEL_NAME}.pt'))"
   ],
   "metadata": {
    "collapsed": false,
    "pycharm": {
     "name": "#%%\n",
     "is_executing": true
    }
   }
  },
  {
   "cell_type": "code",
   "execution_count": null,
   "outputs": [],
   "source": [
    "# tracking test loss\n",
    "test_loss = 0.0\n",
    "class_correct = list(0. for i in range(10))\n",
    "class_total = list(0. for i in range(10))\n",
    "\n",
    "model_new.eval()\n",
    "\n",
    "for batch_idx, (data, target) in enumerate(test_loader):\n",
    "    # forward pass\n",
    "    output = model_new(normalize_transforms(train_transforms(data)))\n",
    "\n",
    "    output_max = torch.max(output)\n",
    "    output_min = torch.min(output)\n",
    "\n",
    "    # batch loss\n",
    "    loss = criterion(output, target)\n",
    "    # test loss update\n",
    "    test_loss += loss.item() * data.size(0)\n",
    "    # convert output probabilities to predicted class\n",
    "    _, pred = torch.max(output, 1)\n",
    "    # compare predictions to true label\n",
    "    correct_tensor = pred.eq(target.data.view_as(pred))\n",
    "    correct = np.squeeze(correct_tensor.numpy()) if not torch.cuda.is_available() else np.squeeze(\n",
    "        correct_tensor.cpu().numpy())\n",
    "    # calculate test accuracy for each object class\n",
    "    for i in range(10):\n",
    "        label = target.data[i]\n",
    "        class_correct[label] += correct[i].item()\n",
    "        class_total[label] += 1\n",
    "\n",
    "# average test loss\n",
    "test_loss = test_loss / len(test_loader.dataset)\n",
    "print(f'Test Loss: {round(test_loss, 6)}')\n",
    "\n",
    "for i in range(10):\n",
    "    if class_total[i] > 0:\n",
    "        print(f'Test Accuracy of {classes[i]}: {round(100 * class_correct[i] / class_total[i], 2)}%')\n",
    "    else:\n",
    "        print(f'Test Accuracy of {classes[i]}s: N/A (no training examples)')\n",
    "\n",
    "print(\n",
    "    f'Full Test Accuracy: {round(100. * np.sum(class_correct) / np.sum(class_total), 2)}% {np.sum(class_correct)} out of {np.sum(class_total)}')\n",
    "\n",
    "output_min = output_min.cpu().detach().numpy()\n",
    "output_max = output_max.cpu().detach().numpy()"
   ],
   "metadata": {
    "collapsed": false,
    "pycharm": {
     "name": "#%%\n",
     "is_executing": true
    }
   }
  },
  {
   "cell_type": "code",
   "execution_count": null,
   "outputs": [],
   "source": [
    "prediction_threshold_amount = 1000"
   ],
   "metadata": {
    "collapsed": false,
    "pycharm": {
     "name": "#%%\n",
     "is_executing": true
    }
   }
  },
  {
   "cell_type": "code",
   "execution_count": null,
   "outputs": [],
   "source": [
    "prediction_threshold_low = []\n",
    "\n",
    "while len(prediction_threshold_low) < prediction_threshold_amount:\n",
    "    for batch_idx, (data, target) in enumerate(train_loader):\n",
    "        clear_output(wait=True)\n",
    "        data = normalize_transforms(train_transforms(data))\n",
    "        output = model_new(data[:1, :1, :, :]).cpu().detach()\n",
    "        output = (output.numpy()[0] - output_min) / (output_max - output_min)\n",
    "        if target[0] == np.argmax(output):\n",
    "            continue\n",
    "        prediction_threshold_low.append(np.max(output))\n",
    "        print(f\"calibration lower threshold {100 * len(prediction_threshold_low) / prediction_threshold_amount:.2f}%\")\n",
    "        print(f\"real value = {target[0]}\")\n",
    "        print(f\"prediction = {np.argmax(output)}\")\n",
    "        print(f\"prediction % = {np.max(output)}\")\n",
    "        print(f\"predictions = {output}\")\n",
    "        plt.imshow(data.cpu()[0, 0, :, :], cmap=plt.cm.binary, vmin=-1, vmax=1)\n",
    "        plt.show()\n",
    "        if len(prediction_threshold_low) >= prediction_threshold_amount:\n",
    "            break\n",
    "\n",
    "threshold_low = np.mean(np.array(prediction_threshold_low))\n",
    "threshold_low_std = np.std(np.array(prediction_threshold_low))\n",
    "\n",
    "clear_output(wait=True)\n",
    "print(f\"lower threshold = {threshold_low} with std = {threshold_low_std}\")"
   ],
   "metadata": {
    "collapsed": false,
    "pycharm": {
     "name": "#%%\n",
     "is_executing": true
    }
   }
  },
  {
   "cell_type": "code",
   "execution_count": null,
   "outputs": [],
   "source": [
    "prediction_threshold_high = []\n",
    "\n",
    "while len(prediction_threshold_high) < prediction_threshold_amount:\n",
    "    for batch_idx, (data, target) in enumerate(train_loader):\n",
    "        clear_output(wait=True)\n",
    "        data = normalize_transforms(train_transforms(data))\n",
    "        output = model_new(data[:1, :1, :, :]).cpu().detach()\n",
    "        output = (output.numpy()[0] - output_min) / (output_max - output_min)\n",
    "        prediction_threshold_high.append(np.max(output))\n",
    "        print(f\"calibration upper threshold {100 * len(prediction_threshold_high) / prediction_threshold_amount:.2f}%\")\n",
    "        print(f\"real value = {target[0]}\")\n",
    "        print(f\"prediction = {np.argmax(output)}\")\n",
    "        print(f\"prediction % = {np.max(output)}\")\n",
    "        print(f\"predictions = {output}\")\n",
    "        plt.imshow(data.cpu()[0, 0, :, :], cmap=plt.cm.binary, vmin=-1, vmax=1)\n",
    "        plt.show()\n",
    "        if len(prediction_threshold_high) >= prediction_threshold_amount:\n",
    "            break\n",
    "\n",
    "threshold_high = np.mean(np.array(prediction_threshold_high))\n",
    "threshold_high_std = np.std(np.array(prediction_threshold_high))\n",
    "\n",
    "clear_output(wait=True)\n",
    "print(f\"upper threshold = {threshold_high} with std = {threshold_high_std}\")"
   ],
   "metadata": {
    "collapsed": false,
    "pycharm": {
     "name": "#%%\n",
     "is_executing": true
    }
   }
  },
  {
   "cell_type": "code",
   "execution_count": null,
   "outputs": [],
   "source": [
    "confidence_threshold = (threshold_high - threshold_high_std) / 2 + (threshold_low + threshold_low_std) / 2\n",
    "\n",
    "plt.plot(prediction_threshold_high, \"b\")\n",
    "plt.plot(prediction_threshold_low, \"g\")\n",
    "plt.hlines([confidence_threshold, ], xmin=0, xmax=len(prediction_threshold_high), colors=[\"r\", ])\n",
    "plt.legend([\"Верхний порог уверенности\", \"Нижний порог уверенности\", \"Линия раздела уверенности\"])\n",
    "\n",
    "print(f\"final confidence threshold = {confidence_threshold}\")\n",
    "print(f\"from {threshold_low} => to {threshold_high}\")\n",
    "print(f\"window = {threshold_high - threshold_low}\")"
   ],
   "metadata": {
    "collapsed": false,
    "pycharm": {
     "name": "#%%\n",
     "is_executing": true
    }
   }
  }
 ],
 "metadata": {
  "kernelspec": {
   "display_name": "Python 3",
   "language": "python",
   "name": "python3"
  },
  "language_info": {
   "codemirror_mode": {
    "name": "ipython",
    "version": 2
   },
   "file_extension": ".py",
   "mimetype": "text/x-python",
   "name": "python",
   "nbconvert_exporter": "python",
   "pygments_lexer": "ipython2",
   "version": "2.7.6"
  }
 },
 "nbformat": 4,
 "nbformat_minor": 0
}